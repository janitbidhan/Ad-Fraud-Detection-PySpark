{
  "nbformat": 4,
  "nbformat_minor": 0,
  "metadata": {
    "colab": {
      "provenance": []
    },
    "kernelspec": {
      "name": "python3",
      "display_name": "Python 3"
    },
    "language_info": {
      "name": "python"
    }
  },
  "cells": [
    {
      "cell_type": "code",
      "execution_count": 5,
      "metadata": {
        "colab": {
          "base_uri": "https://localhost:8080/"
        },
        "id": "VRI9aMIqLktt",
        "outputId": "440d187e-ceee-475b-ea94-1ff1e838651c"
      },
      "outputs": [
        {
          "output_type": "stream",
          "name": "stdout",
          "text": [
            "Looking in indexes: https://pypi.org/simple, https://us-python.pkg.dev/colab-wheels/public/simple/\n",
            "Collecting pyspark\n",
            "  Downloading pyspark-3.3.1.tar.gz (281.4 MB)\n",
            "\u001b[K     |████████████████████████████████| 281.4 MB 44 kB/s \n",
            "\u001b[?25hCollecting py4j==0.10.9.5\n",
            "  Downloading py4j-0.10.9.5-py2.py3-none-any.whl (199 kB)\n",
            "\u001b[K     |████████████████████████████████| 199 kB 54.7 MB/s \n",
            "\u001b[?25hBuilding wheels for collected packages: pyspark\n",
            "  Building wheel for pyspark (setup.py) ... \u001b[?25l\u001b[?25hdone\n",
            "  Created wheel for pyspark: filename=pyspark-3.3.1-py2.py3-none-any.whl size=281845512 sha256=c53cc49aa084d80b134c07a5527538a1cc8ce28faeeee022dd120ba7b6af5182\n",
            "  Stored in directory: /root/.cache/pip/wheels/43/dc/11/ec201cd671da62fa9c5cc77078235e40722170ceba231d7598\n",
            "Successfully built pyspark\n",
            "Installing collected packages: py4j, pyspark\n",
            "Successfully installed py4j-0.10.9.5 pyspark-3.3.1\n"
          ]
        }
      ],
      "source": [
        "!pip install pyspark\n"
      ]
    },
    {
      "cell_type": "code",
      "source": [
        "from pyspark.sql import SparkSession\n",
        "spark = SparkSession.builder.appName(\"MapReduceFinalProject-FileConversion-CSVtoParquet\").getOrCreate()"
      ],
      "metadata": {
        "id": "tKOMuz3GMIkg"
      },
      "execution_count": 6,
      "outputs": []
    },
    {
      "cell_type": "code",
      "source": [
        "def convertCSVtoParquet(path='./Data/train.csv',savepath=''):\n",
        "  dataDownload = spark.read\\\n",
        "        .format('org.apache.spark.sql.execution.datasources.csv.CSVFileFormat')\\\n",
        "        .option(\"inferSchema\",True)\\\n",
        "        .option('header', 'true')\\\n",
        "        .load(path).drop(\"attributed_time\",\"click_time\").distinct().na.drop().coalesce(100)\n",
        "\n",
        "  dataDownload.coalesce(1).write.mode(\"overwrite\").parquet(savepath)\n"
      ],
      "metadata": {
        "id": "DmdkM9PdLre3"
      },
      "execution_count": 11,
      "outputs": []
    },
    {
      "cell_type": "code",
      "source": [
        "convertCSVtoParquet(path='/content/drive/MyDrive/talkingdata-adtracking-fraud-detection/train.csv', savepath='/content/output')"
      ],
      "metadata": {
        "id": "q89iZgWLNHBK"
      },
      "execution_count": null,
      "outputs": []
    },
    {
      "cell_type": "code",
      "source": [],
      "metadata": {
        "id": "iRLyCMGaNJtL"
      },
      "execution_count": null,
      "outputs": []
    }
  ]
}